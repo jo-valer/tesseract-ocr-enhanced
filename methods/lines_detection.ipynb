{
 "cells": [
  {
   "cell_type": "markdown",
   "metadata": {},
   "source": [
    "# Methods to detect lined/squared paper"
   ]
  },
  {
   "cell_type": "code",
   "execution_count": null,
   "metadata": {},
   "outputs": [],
   "source": [
    "import cv2\n",
    "import numpy as np\n",
    "from matplotlib import pyplot as plt\n",
    "import os\n",
    "\n",
    "PARENT_DIR = os.path.dirname(os.path.dirname(os.path.realpath(\"FILEPATH\")))\n",
    "image_name = \"004.jpg\"\n",
    "image = cv2.imread(os.path.join(PARENT_DIR, \"images\", image_name), cv2.IMREAD_COLOR)\n",
    "\n",
    "# Check if image is loaded fine\n",
    "if image is None:\n",
    "    print('Error opening image')\n",
    "\n",
    "# SHADOW REMOVAL\n",
    "img = np.copy(image)\n",
    "rgb_planes = cv2.split(img)\n",
    "\n",
    "result_planes = []\n",
    "result_norm_planes = []\n",
    "for plane in rgb_planes:\n",
    "    dilated_img = cv2.dilate(plane, np.ones((7, 7), np.uint8))\n",
    "    bg_img = cv2.medianBlur(dilated_img, 21)\n",
    "    diff_img = 255 - cv2.absdiff(plane, bg_img)\n",
    "    norm_img = cv2.normalize(diff_img, None, alpha=0, beta=255, norm_type=cv2.NORM_MINMAX, dtype=cv2.CV_8UC1)\n",
    "    result_planes.append(diff_img)\n",
    "    result_norm_planes.append(norm_img)\n",
    "\n",
    "result = cv2.merge(result_planes)\n",
    "result_norm = cv2.merge(result_norm_planes)\n",
    "\n",
    "# Show source image\n",
    "plt.imshow(result_norm, cmap=\"gray\")"
   ]
  },
  {
   "cell_type": "markdown",
   "metadata": {},
   "source": [
    "## Hough Transform"
   ]
  },
  {
   "cell_type": "code",
   "execution_count": null,
   "metadata": {},
   "outputs": [],
   "source": [
    "PROBABILISTIC = True\n",
    "\n",
    "# gray = cv2.cvtColor(horizontal, cv2.COLOR_BGR2GRAY)\n",
    "edges = cv2.Canny(result_norm, 50, 150, apertureSize=3)\n",
    "lines_on_image = result_norm.copy()\n",
    "\n",
    "if PROBABILISTIC:\n",
    "    lines = cv2.HoughLinesP(edges,1,np.pi/180,100,minLineLength=100,maxLineGap=10)\n",
    "    if lines is not None:\n",
    "        print(\"Lines detected\")\n",
    "        # check if the lines are a considerable number (e.g. 5)\n",
    "        if len(lines) > 5:\n",
    "            print(len(lines))\n",
    "            # check if the lines are long enough (e.g. one fourth of the image width)\n",
    "            long_enough_lines = 0\n",
    "            for line in lines:\n",
    "                x1, y1, x2, y2 = line[0]\n",
    "                cv2.line(lines_on_image, (x1, y1), (x2, y2), (0, 0, 255), 2)\n",
    "                if abs(x2 - x1) > image.shape[1] / 5:\n",
    "                    long_enough_lines += 1\n",
    "            print(\"Long enough lines:\",long_enough_lines)\n",
    "            if long_enough_lines > 5:\n",
    "                print(\"The text is on lined paper\")\n",
    "    else:\n",
    "        print(\"No lines detected\")\n",
    "else:\n",
    "    lines = cv2.HoughLines(edges, 1, np.pi / 180, 200)\n",
    "    if lines is not None:\n",
    "        print(\"Lines detected\")    \n",
    "        # check if the lines are a considerable number (e.g. 5)\n",
    "        if len(lines) > 5:\n",
    "            print(len(lines))\n",
    "            # check if the lines are long enough (e.g. one fourth of the image width)\n",
    "            long_enough_lines = 0\n",
    "            for rho, theta in lines[:, 0]:\n",
    "                a = np.cos(theta)\n",
    "                b = np.sin(theta)\n",
    "                x0 = a * rho\n",
    "                y0 = b * rho\n",
    "                x1 = int(x0 + 1000 * (-b))\n",
    "                y1 = int(y0 + 1000 * (a))\n",
    "                x2 = int(x0 - 1000 * (-b))\n",
    "                y2 = int(y0 - 1000 * (a))\n",
    "                cv2.line(lines_on_image, (x1, y1), (x2, y2), (0, 0, 255), 2)\n",
    "                if abs(x2 - x1) > image.shape[1] / 4:\n",
    "                    long_enough_lines += 1\n",
    "            print(\"Long enough lines:\", long_enough_lines)\n",
    "            if long_enough_lines > 5:\n",
    "                print(\"The text is on lined paper\")\n",
    "    else:\n",
    "        print(\"No lines detected\")\n",
    "\n",
    "# show the image with lines\n",
    "plt.imshow(lines_on_image, cmap=\"gray\")"
   ]
  },
  {
   "cell_type": "markdown",
   "metadata": {},
   "source": [
    "## Fourier Transform"
   ]
  },
  {
   "cell_type": "code",
   "execution_count": null,
   "metadata": {},
   "outputs": [],
   "source": [
    "gray = cv2.cvtColor(result_norm, cv2.COLOR_BGR2GRAY)\n",
    "dft = cv2.dft(np.float32(gray), flags=cv2.DFT_COMPLEX_OUTPUT)\n",
    "dft_shift = np.fft.fftshift(dft)\n",
    "magnitude_spectrum = 20 * np.log(cv2.magnitude(dft_shift[:, :, 0], dft_shift[:, :, 1]))\n",
    "\n",
    "# show the original image and the Fourier Transform of the image\n",
    "fig, ax = plt.subplots(1, 2, figsize=(12, 6))\n",
    "ax[0].imshow(cv2.cvtColor(img, cv2.COLOR_BGR2RGB))\n",
    "ax[0].set_title(\"Input Image\")\n",
    "ax[0].axis(\"off\")\n",
    "ax[1].imshow(magnitude_spectrum, cmap=\"gray\")\n",
    "ax[1].set_title(\"Magnitude Spectrum\")\n",
    "ax[1].axis(\"off\")\n",
    "plt.show()\n",
    "plt.close()\n",
    "print(img.shape)\n",
    "print(magnitude_spectrum.shape)\n",
    "\n",
    "# If the magnitude spectrum has a peak at the middle of the image, for all the rows, then the image is on lined paper\n",
    "\n",
    "# check if the magnitude spectrum has a peak at the middle of the image, for all the rows\n",
    "middle = magnitude_spectrum.shape[1] // 2\n",
    "peaks = []\n",
    "for row in magnitude_spectrum:\n",
    "    peaks.append(row[middle])\n",
    "peaks = np.array(peaks)\n",
    "# print(peaks)\n",
    "plt.plot(peaks)\n",
    "plt.show()\n",
    "plt.close()\n",
    "# check if the peaks are almost all above a certain threshold (e.g. the mean value of the spectrum)\n",
    "# calculate the mean value of the spectrum\n",
    "threshold = np.mean(magnitude_spectrum)\n",
    "print(threshold)\n",
    "print(\"Threshold:\", threshold)\n",
    "\n",
    "# check if the peaks are almost all above the threshold\n",
    "# i.e. if 90% of the peaks are above the threshold\n",
    "above_threshold = peaks > threshold\n",
    "# print(above_threshold)\n",
    "# print(\"Peaks above threshold:\", np.sum(above_threshold))\n",
    "if np.sum(above_threshold) > 0.95 * len(above_threshold):\n",
    "    print(\"The text is on lined paper\")\n",
    "else:\n",
    "    print(\"The text is not on lined paper\")\n",
    "\n",
    "# We reshape the probability from 0.8 to 1 to a percentage from 0 to 100\n",
    "if np.sum(above_threshold) > 0.8 * len(above_threshold):\n",
    "    print(\"\\033[92m\\nProbability of lined paper: \\033[0m\", ((np.sum(above_threshold)/len(above_threshold))-0.8)*500)"
   ]
  },
  {
   "cell_type": "markdown",
   "metadata": {},
   "source": [
    "## Template Matching"
   ]
  },
  {
   "cell_type": "code",
   "execution_count": null,
   "metadata": {},
   "outputs": [],
   "source": [
    "# TODO"
   ]
  }
 ],
 "metadata": {
  "language_info": {
   "name": "python"
  }
 },
 "nbformat": 4,
 "nbformat_minor": 2
}
