{
 "cells": [
  {
   "cell_type": "markdown",
   "id": "5110e0a82bc1da3a",
   "metadata": {
    "collapsed": false
   },
   "source": [
    "# Autonomous trackbar\n",
    "This is the autonomous trackbar method"
   ]
  },
  {
   "cell_type": "code",
   "execution_count": null,
   "id": "db009f506582918c",
   "metadata": {},
   "outputs": [],
   "source": [
    "import cv2\n",
    "import numpy as np\n",
    "from matplotlib import pyplot as plt\n",
    "import pytesseract\n",
    "import subprocess\n",
    "\n",
    "# Path to tesseract executable (in case it isn't in your PATH)\n",
    "try:\n",
    "    subprocess.call([\"tesseract\"])\n",
    "except FileNotFoundError:\n",
    "    pytesseract.pytesseract.tesseract_cmd = r'C:\\Program Files\\Tesseract-OCR\\tesseract.exe'\n",
    "\n",
    "\"\"\"\n",
    "Automatically modify the values (lh, ls, lv, uh, us, uv) to OCR the text in the image.\n",
    "\"\"\"\n",
    "\n",
    "\n",
    "def auto_trackbar_ocr(image):\n",
    "    # Ask user for background color\n",
    "    background_color = int(input(\"Enter the background color (1 for Dark and 0 for Light): \"))\n",
    "\n",
    "    # Convert BGR to HSV\n",
    "    hsv = cv2.cvtColor(image, cv2.COLOR_BGR2HSV)\n",
    "\n",
    "    # define range of boundaries color in HSV\n",
    "    top_left = image[:int(image.shape[0] / 5), :int(image.shape[1] / 5)]\n",
    "    top_left = cv2.medianBlur(top_left, 31)\n",
    "    if background_color == 0:\n",
    "        lower_value = [top_left[:, :, 0].min(), top_left[:, :, 1].min(), top_left[:, :, 2].min()]\n",
    "        upper_value = [180, 255, 255]\n",
    "    else:\n",
    "        lower_value = [0, 0, 0]\n",
    "        upper_value = [top_left[:, :, 0].max(), top_left[:, :, 1].max(), top_left[:, :, 2].max()]\n",
    "\n",
    "    # lower_value = [top_left[:, :, 0].min(), top_left[:, :, 1].min(), top_left[:, :, 2].min()]\n",
    "    # upper_value = [top_left[:, :, 0].max(), top_left[:, :, 1].max(), top_left[:, :, 2].max()]\n",
    "    # print(lower_value,upper_value)\n",
    "\n",
    "    # lower_value = [0, 0, 0]\n",
    "    # upper_value = [121, 135, 147]\n",
    "\n",
    "    lower_bound = np.array(lower_value, np.uint8)\n",
    "    upper_bound = np.array(upper_value, np.uint8)\n",
    "\n",
    "    # Threshold the HSV to get only the written text\n",
    "    mask = cv2.inRange(hsv, lower_bound, upper_bound)\n",
    "    mask = cv2.bitwise_not(mask)\n",
    "\n",
    "    # Bitwise-AND mask and original image\n",
    "    res = cv2.bitwise_and(image, image, mask=mask)\n",
    "    print(\"Text before filtering: \")\n",
    "    print(\"\\033[91m {}\\033[00m\".format(pytesseract.image_to_string(image)))\n",
    "    # OCR\n",
    "    res = cv2.GaussianBlur(res, (9, 9), 0)\n",
    "    text = pytesseract.image_to_string(res, lang='eng')\n",
    "    print(\"Text after autonomous trackbar: \\033[92m {}\\033[00m\".format(text))\n",
    "\n",
    "    plt.subplot(121), plt.imshow(mask), plt.title(\"Original\")\n",
    "    plt.xticks([]), plt.yticks([])\n",
    "    plt.subplot(122), plt.imshow(res), plt.title(\"Result\")\n",
    "    plt.xticks([]), plt.yticks([])\n",
    "    plt.show()\n"
   ]
  },
  {
   "cell_type": "code",
   "execution_count": null,
   "id": "dbc8762eb8305a0b",
   "metadata": {},
   "outputs": [],
   "source": [
    "if __name__ == \"__main__\":\n",
    "    plt.rcParams['figure.figsize'] = [15, 10]\n",
    "    img = cv2.imread('../images/001.png')\n",
    "    # img = cv2.imread('../images/006.jpg')\n",
    "    assert img is not None, \"file could not be read, check with os.path.exists()\"\n",
    "    auto_trackbar_ocr(img)"
   ]
  },
  {
   "cell_type": "code",
   "execution_count": null,
   "id": "6274d45d0cfeaa42",
   "metadata": {},
   "outputs": [],
   "source": []
  }
 ],
 "metadata": {
  "language_info": {
   "name": "python"
  }
 },
 "nbformat": 4,
 "nbformat_minor": 5
}
