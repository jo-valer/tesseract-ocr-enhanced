{
 "cells": [
  {
   "cell_type": "markdown",
   "id": "9c5c8954c4a3892",
   "metadata": {},
   "source": [
    "# Automatic filtering images\n",
    "\n",
    "If not evaluating the method, please set `EVALUATION = False`"
   ]
  },
  {
   "cell_type": "code",
   "execution_count": null,
   "id": "558f3837",
   "metadata": {},
   "outputs": [],
   "source": [
    "EVALUATION = True"
   ]
  },
  {
   "cell_type": "code",
   "execution_count": null,
   "id": "initial_id",
   "metadata": {},
   "outputs": [],
   "source": [
    "import cv2\n",
    "import numpy as np\n",
    "from matplotlib import pyplot as plt\n",
    "import pytesseract\n",
    "import subprocess\n",
    "\n",
    "# Path to tesseract executable (in case it isn't in your PATH)\n",
    "try:\n",
    "    subprocess.call([\"tesseract\"])\n",
    "except FileNotFoundError:\n",
    "    pytesseract.pytesseract.tesseract_cmd = r'C:\\Program Files\\Tesseract-OCR\\tesseract.exe'"
   ]
  },
  {
   "cell_type": "code",
   "execution_count": null,
   "id": "85e7025bf39314ed",
   "metadata": {},
   "outputs": [],
   "source": [
    "def comparison_plot(image1, image2, operation, title1=\"Source Image\"):\n",
    "    plt.subplot(121), plt.imshow(image1, 'gray'), plt.title(title1)\n",
    "    plt.xticks([]), plt.yticks([])\n",
    "    plt.subplot(122), plt.imshow(image2, 'gray'), plt.title(operation)\n",
    "    plt.xticks([]), plt.yticks([])\n",
    "    plt.show()"
   ]
  },
  {
   "cell_type": "code",
   "execution_count": null,
   "id": "e07c60a8d3c95ad2",
   "metadata": {},
   "outputs": [],
   "source": [
    "def tesseract_text(image, operation):\n",
    "    text = pytesseract.image_to_string(image)\n",
    "    print(\"\\033[92m{}\\033[00m\".format(operation + '\\n' + text))"
   ]
  },
  {
   "cell_type": "code",
   "execution_count": null,
   "id": "e7e90833ee9bbf64",
   "metadata": {},
   "outputs": [],
   "source": [
    "def canny_edge_detection(image):\n",
    "    edges = cv2.Canny(image, 80, 100, apertureSize=3)\n",
    "    if not EVALUATION:\n",
    "        comparison_plot(image, edges, \"Canny edge detection\", \"Black and White image\")\n",
    "        tesseract_text(edges, \"Canny edge detection\")\n",
    "    return edges"
   ]
  },
  {
   "cell_type": "code",
   "execution_count": null,
   "id": "9abed5d529f3926c",
   "metadata": {},
   "outputs": [],
   "source": [
    "def denoising(image):\n",
    "    dst = cv2.fastNlMeansDenoising(image, None, 30.0, 7, 21)\n",
    "    if not EVALUATION:\n",
    "        comparison_plot(image, dst, \"Denoised\")\n",
    "        tesseract_text(dst, \"Denoising\")\n",
    "    return dst"
   ]
  },
  {
   "cell_type": "code",
   "execution_count": null,
   "id": "1087a5836fea28c9",
   "metadata": {},
   "outputs": [],
   "source": [
    "def gaussian_blur(image):\n",
    "    blur = cv2.GaussianBlur(image, (7, 7), 0)\n",
    "    if not EVALUATION:\n",
    "        comparison_plot(image, blur, \"Blurred\")\n",
    "        tesseract_text(blur, \"Blurred\")\n",
    "    return blur"
   ]
  },
  {
   "cell_type": "code",
   "execution_count": null,
   "id": "1222462170269aa9",
   "metadata": {},
   "outputs": [],
   "source": [
    "def thresholding(image):\n",
    "    ret, th3 = cv2.threshold(image, 0, 255, cv2.THRESH_BINARY + cv2.THRESH_OTSU)\n",
    "    return th3"
   ]
  },
  {
   "cell_type": "code",
   "execution_count": null,
   "id": "b786361fda939ea8",
   "metadata": {},
   "outputs": [],
   "source": [
    "def erosion(image, erosion_size=5):\n",
    "    erosion_shape = cv2.MORPH_RECT\n",
    "\n",
    "    element = cv2.getStructuringElement(erosion_shape, (2 * erosion_size + 1, 2 * erosion_size + 1),\n",
    "                                        (erosion_size, erosion_size))\n",
    "\n",
    "    erosion_dst = cv2.erode(image, element)\n",
    "    if not EVALUATION:\n",
    "        comparison_plot(image, erosion_dst, \"Eroded\")\n",
    "        tesseract_text(erosion_dst, \"Eroded\")\n",
    "    return erosion_dst"
   ]
  },
  {
   "cell_type": "code",
   "execution_count": null,
   "id": "6cef0d296af42eb",
   "metadata": {},
   "outputs": [],
   "source": [
    "def dilation(image, dilation_size=5):\n",
    "    dilation_shape = cv2.MORPH_RECT\n",
    "    element = cv2.getStructuringElement(dilation_shape, (2 * dilation_size + 1, 2 * dilation_size + 1),\n",
    "                                        (dilation_size, dilation_size))\n",
    "    dilatation_dst = cv2.dilate(image, element)\n",
    "    if not EVALUATION:\n",
    "        comparison_plot(image, dilatation_dst, \"Dilation\")\n",
    "        tesseract_text(dilatation_dst, \"Dilation\")\n",
    "    return dilatation_dst"
   ]
  },
  {
   "cell_type": "code",
   "execution_count": null,
   "id": "4969b3a3fb4a4a09",
   "metadata": {},
   "outputs": [],
   "source": [
    "def opening(image, dilation_size=5, iteration=1):\n",
    "    dilation_shape = cv2.MORPH_RECT\n",
    "    element = cv2.getStructuringElement(dilation_shape, (2 * dilation_size + 1, 2 * dilation_size + 1),\n",
    "                                        (dilation_size, dilation_size))\n",
    "    opening_src = cv2.morphologyEx(image, cv2.MORPH_OPEN, element, iterations=iteration)\n",
    "    if not EVALUATION:\n",
    "        comparison_plot(image, opening_src, \"Opening\")\n",
    "        tesseract_text(opening_src, \"Opening\")\n",
    "    return opening_src"
   ]
  },
  {
   "cell_type": "code",
   "execution_count": null,
   "id": "dfd5471c56a86b5b",
   "metadata": {},
   "outputs": [],
   "source": [
    "def closing(image, dilation_size=1, iteration=1):\n",
    "    dilation_shape = cv2.MORPH_RECT\n",
    "    element = cv2.getStructuringElement(dilation_shape, (2 * dilation_size + 1, 2 * dilation_size + 1),\n",
    "                                        (dilation_size, dilation_size))\n",
    "    closing_src = cv2.morphologyEx(image, cv2.MORPH_CLOSE, element, iterations=iteration)\n",
    "    if not EVALUATION:\n",
    "        comparison_plot(image, closing_src, \"Closing\")\n",
    "        tesseract_text(closing_src, \"Closing\")\n",
    "    return closing_src"
   ]
  },
  {
   "cell_type": "code",
   "execution_count": null,
   "id": "e48db1e3e67faf7",
   "metadata": {},
   "outputs": [],
   "source": [
    "if __name__ == \"__main__\":\n",
    "    plt.rcParams['figure.figsize'] = [15, 10]\n",
    "    img = cv2.imread('../images/005.jpg')\n",
    "    assert img is not None, \"file could not be read, check with os.path.exists()\"\n",
    "    if not EVALUATION:\n",
    "        tesseract_text(img, \"Original\")\n",
    "    img = cv2.cvtColor(img, cv2.COLOR_BGR2GRAY)\n",
    "    canny_res = canny_edge_detection(img)\n",
    "    denois_res = denoising(canny_res)\n",
    "    gaussian_res = gaussian_blur(denois_res)\n",
    "    thresh_res = thresholding(gaussian_res)\n",
    "\n",
    "    eroded_res = erosion(thresh_res, 1)\n",
    "    dilated_res = dilation(eroded_res, 1)\n",
    "    closing_res = closing(thresh_res, 2, 1)\n",
    "    opening(closing_res, 2, 1)"
   ]
  },
  {
   "cell_type": "markdown",
   "id": "540f7bce",
   "metadata": {},
   "source": [
    "## Evaluation"
   ]
  },
  {
   "cell_type": "code",
   "execution_count": null,
   "id": "5568db95c1d0586c",
   "metadata": {},
   "outputs": [],
   "source": [
    "import cv2\n",
    "import numpy as np\n",
    "import pytesseract\n",
    "import os\n",
    "import subprocess\n",
    "import pandas as pd\n",
    "import re\n",
    "from Levenshtein import distance\n",
    "\n",
    "if not EVALUATION:\n",
    "    assert False\n",
    "\n",
    "image_names = [str(i).zfill(3) + \".jpg\" for i in range(1, 11)]\n",
    "\n",
    "# Remove 004.jpg: this image is not meant to be preprocessed as it is already black text on a white background\n",
    "image_names.remove(\"004.jpg\")\n",
    "\n",
    "PARENT_DIR = os.path.dirname(os.path.dirname(os.path.realpath(\"FILEPATH\")))\n",
    "\n",
    "if os.path.exists(os.path.join(PARENT_DIR, \"results\", \"automatic_filtering.tsv\")):\n",
    "    os.remove(os.path.join(PARENT_DIR, \"results\", \"automatic_filtering.tsv\"))\n",
    "\n",
    "for image_name in image_names:\n",
    "    # Path to tesseract executable (in case it isn't in your PATH)\n",
    "    try:\n",
    "        subprocess.call([\"tesseract\"])\n",
    "    except FileNotFoundError:\n",
    "        pytesseract.pytesseract.tesseract_cmd = r'C:\\Program Files\\Tesseract-OCR\\tesseract.exe'\n",
    "\n",
    "    image = cv2.imread(os.path.join(PARENT_DIR, \"images\", image_name), cv2.IMREAD_COLOR)\n",
    "\n",
    "    if image is None:\n",
    "        print('Error opening image')\n",
    "\n",
    "    img = cv2.cvtColor(image, cv2.COLOR_BGR2GRAY)\n",
    "    canny_res = canny_edge_detection(img)\n",
    "    denois_res = denoising(canny_res)\n",
    "    gaussian_res = gaussian_blur(denois_res)\n",
    "    thresh_res = thresholding(gaussian_res)\n",
    "    eroded_res = erosion(thresh_res, 1)\n",
    "    dilated_res = dilation(eroded_res, 1)\n",
    "\n",
    "    method_text = pytesseract.image_to_string(dilated_res)\n",
    "    if method_text == \"\":\n",
    "        method_text = \" \"\n",
    "\n",
    "    baseline_text = pytesseract.image_to_string(image)\n",
    "    if baseline_text == \"\":\n",
    "        baseline_text = \" \"\n",
    "\n",
    "    # Remove special characters from the text (\\n, \\t, \\r, and multiple spaces all become a single space)\n",
    "    baseline_text = re.sub(r'[\\n\\t\\r]+', ' ', baseline_text)\n",
    "    baseline_text = re.sub(r' +', ' ', baseline_text)\n",
    "    method_text = re.sub(r'[\\n\\t\\r]+', ' ', method_text)\n",
    "    method_text = re.sub(r' +', ' ', method_text)\n",
    "\n",
    "    ground_truth = pd.read_csv(os.path.join(PARENT_DIR, \"results\", \"ground_truth.tsv\"), sep=\"\\t\")\n",
    "\n",
    "    if not os.path.exists(os.path.join(PARENT_DIR, \"results\", \"automatic_filtering.tsv\")) or len(ground_truth) != len(pd.read_csv(os.path.join(PARENT_DIR, \"results\", \"automatic_filtering.tsv\"), sep=\"\\t\")):\n",
    "        automatic_filtering = pd.DataFrame(columns=[\"input\", \"text\", \"baseline_text\", \"method_text\", \"ocr\", \"baseline_dist\", \"method_dist\"])\n",
    "        # Add all rows from ground_truth to automatic_filtering, with values for \"ocr\" set to 0\n",
    "        automatic_filtering[\"input\"] = ground_truth[\"input\"]\n",
    "        automatic_filtering[\"text\"] = ground_truth[\"text\"]\n",
    "        automatic_filtering[\"baseline_text\"] = \"\"\n",
    "        automatic_filtering[\"method_text\"] = \"\"\n",
    "        automatic_filtering[\"ocr\"] = 0\n",
    "        # distance is the Levenshtein distance between the ground truth and the OCR result, defaulting to -1\n",
    "        automatic_filtering[\"baseline_dist\"] = -1\n",
    "        automatic_filtering[\"method_dist\"] = -1\n",
    "\n",
    "        automatic_filtering.to_csv(os.path.join(PARENT_DIR, \"results\", \"automatic_filtering.tsv\"), sep=\"\\t\", index=False)\n",
    "\n",
    "    automatic_filtering = pd.read_csv(os.path.join(PARENT_DIR, \"results\", \"automatic_filtering.tsv\"), sep=\"\\t\", dtype={\"method_text\": \"string\", \"baseline_text\": \"string\"})\n",
    "\n",
    "    # Insert/update the automatic_filtering dataframe\n",
    "    automatic_filtering.loc[automatic_filtering[\"input\"] == image_name, \"text\"] = ground_truth[ground_truth[\"input\"] == image_name][\"text\"].values[0]\n",
    "    automatic_filtering.loc[automatic_filtering[\"input\"] == image_name, \"baseline_text\"] = baseline_text\n",
    "    automatic_filtering.loc[automatic_filtering[\"input\"] == image_name, \"method_text\"] = method_text\n",
    "    automatic_filtering.loc[automatic_filtering[\"input\"] == image_name, \"ocr\"] = 1\n",
    "    automatic_filtering.loc[automatic_filtering[\"input\"] == image_name, \"baseline_dist\"] = distance(ground_truth[ground_truth[\"input\"] == image_name][\"text\"].values[0], baseline_text)\n",
    "    automatic_filtering.loc[automatic_filtering[\"input\"] == image_name, \"method_dist\"] = distance(ground_truth[ground_truth[\"input\"] == image_name][\"text\"].values[0], method_text)\n",
    "\n",
    "    automatic_filtering.to_csv(os.path.join(PARENT_DIR, \"results\", \"automatic_filtering.tsv\"), sep=\"\\t\", index=False)\n",
    "\n",
    "automatic_filtering = pd.read_csv(os.path.join(PARENT_DIR, \"results\", \"automatic_filtering.tsv\"), sep=\"\\t\")\n",
    "automatic_filtering\n"
   ]
  }
 ],
 "metadata": {
  "language_info": {
   "name": "python"
  }
 },
 "nbformat": 4,
 "nbformat_minor": 5
}
