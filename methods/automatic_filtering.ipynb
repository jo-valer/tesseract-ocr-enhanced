{
 "cells": [
  {
   "cell_type": "markdown",
   "id": "9c5c8954c4a3892",
   "metadata": {},
   "source": [
    "# Automatic filtering images"
   ]
  },
  {
   "cell_type": "code",
   "execution_count": null,
   "id": "initial_id",
   "metadata": {},
   "outputs": [],
   "source": [
    "import cv2\n",
    "import numpy as np\n",
    "from matplotlib import pyplot as plt\n",
    "import pytesseract\n",
    "import subprocess\n",
    "\n",
    "# Path to tesseract executable (in case it isn't in your PATH)\n",
    "try:\n",
    "    subprocess.call([\"tesseract\"])\n",
    "except FileNotFoundError:\n",
    "    pytesseract.pytesseract.tesseract_cmd = r'C:\\Program Files\\Tesseract-OCR\\tesseract.exe'"
   ]
  },
  {
   "cell_type": "code",
   "execution_count": null,
   "id": "85e7025bf39314ed",
   "metadata": {},
   "outputs": [],
   "source": [
    "def comparison_plot(image1, image2, operation, title1=\"Source Image\"):\n",
    "    plt.subplot(121), plt.imshow(image1, 'gray'), plt.title(title1)\n",
    "    plt.xticks([]), plt.yticks([])\n",
    "    plt.subplot(122), plt.imshow(image2, 'gray'), plt.title(operation)\n",
    "    plt.xticks([]), plt.yticks([])\n",
    "    plt.show()"
   ]
  },
  {
   "cell_type": "code",
   "execution_count": null,
   "id": "e07c60a8d3c95ad2",
   "metadata": {},
   "outputs": [],
   "source": [
    "def tesseract_text(image, operation):\n",
    "    text = pytesseract.image_to_string(image)\n",
    "    print(\"\\033[92m{}\\033[00m\".format(operation + '\\n' + text))"
   ]
  },
  {
   "cell_type": "code",
   "execution_count": null,
   "id": "e7e90833ee9bbf64",
   "metadata": {},
   "outputs": [],
   "source": [
    "def canny_edge_detection(image):\n",
    "    edges = cv2.Canny(image, 80, 100, apertureSize=3)\n",
    "    comparison_plot(image, edges, \"Canny edge detection\", \"Black and White image\")\n",
    "    tesseract_text(edges, \"Canny edge detection\")\n",
    "    return edges"
   ]
  },
  {
   "cell_type": "code",
   "execution_count": null,
   "id": "9abed5d529f3926c",
   "metadata": {},
   "outputs": [],
   "source": [
    "def denoising(image):\n",
    "    dst = cv2.fastNlMeansDenoising(image, None, 30.0, 7, 21)\n",
    "    comparison_plot(image, dst, \"Denoised\")\n",
    "    tesseract_text(dst, \"Denoising\")\n",
    "    return dst"
   ]
  },
  {
   "cell_type": "code",
   "execution_count": null,
   "id": "1087a5836fea28c9",
   "metadata": {},
   "outputs": [],
   "source": [
    "def gaussian_blur(image):\n",
    "    blur = cv2.GaussianBlur(image, (7, 7), 0)\n",
    "    comparison_plot(image, blur, \"Blurred\")\n",
    "    tesseract_text(blur, \"Blurred\")\n",
    "    return blur"
   ]
  },
  {
   "cell_type": "code",
   "execution_count": null,
   "id": "1222462170269aa9",
   "metadata": {},
   "outputs": [],
   "source": [
    "def thresholding(image):\n",
    "    ret, th3 = cv2.threshold(image, 0, 255, cv2.THRESH_BINARY + cv2.THRESH_OTSU)\n",
    "    return th3"
   ]
  },
  {
   "cell_type": "code",
   "execution_count": null,
   "id": "b786361fda939ea8",
   "metadata": {},
   "outputs": [],
   "source": [
    "def erosion(image, erosion_size=5):\n",
    "    erosion_shape = cv2.MORPH_RECT\n",
    "\n",
    "    element = cv2.getStructuringElement(erosion_shape, (2 * erosion_size + 1, 2 * erosion_size + 1),\n",
    "                                        (erosion_size, erosion_size))\n",
    "\n",
    "    erosion_dst = cv2.erode(image, element)\n",
    "    comparison_plot(image, erosion_dst, \"Eroded\")\n",
    "    tesseract_text(erosion_dst, \"Eroded\")\n",
    "    return erosion_dst"
   ]
  },
  {
   "cell_type": "code",
   "execution_count": null,
   "id": "6cef0d296af42eb",
   "metadata": {},
   "outputs": [],
   "source": [
    "def dilation(image, dilation_size=5):\n",
    "    dilation_shape = cv2.MORPH_RECT\n",
    "    element = cv2.getStructuringElement(dilation_shape, (2 * dilation_size + 1, 2 * dilation_size + 1),\n",
    "                                        (dilation_size, dilation_size))\n",
    "    dilatation_dst = cv2.dilate(image, element)\n",
    "    comparison_plot(image, dilatation_dst, \"Dilation\")\n",
    "    tesseract_text(dilatation_dst, \"Dilation\")\n",
    "    return dilatation_dst"
   ]
  },
  {
   "cell_type": "code",
   "execution_count": null,
   "id": "4969b3a3fb4a4a09",
   "metadata": {},
   "outputs": [],
   "source": [
    "def opening(image, dilation_size=5, iteration=1):\n",
    "    dilation_shape = cv2.MORPH_RECT\n",
    "    element = cv2.getStructuringElement(dilation_shape, (2 * dilation_size + 1, 2 * dilation_size + 1),\n",
    "                                        (dilation_size, dilation_size))\n",
    "    opening_src = cv2.morphologyEx(image, cv2.MORPH_OPEN, element, iterations=iteration)\n",
    "    comparison_plot(image, opening_src, \"Opening\")\n",
    "    tesseract_text(opening_src, \"Opening\")\n",
    "    return opening_src"
   ]
  },
  {
   "cell_type": "code",
   "execution_count": null,
   "id": "dfd5471c56a86b5b",
   "metadata": {},
   "outputs": [],
   "source": [
    "def closing(image, dilation_size=1, iteration=1):\n",
    "    dilation_shape = cv2.MORPH_RECT\n",
    "    element = cv2.getStructuringElement(dilation_shape, (2 * dilation_size + 1, 2 * dilation_size + 1),\n",
    "                                        (dilation_size, dilation_size))\n",
    "    closing_src = cv2.morphologyEx(image, cv2.MORPH_CLOSE, element, iterations=iteration)\n",
    "    comparison_plot(image, closing_src, \"Closing\")\n",
    "    tesseract_text(closing_src, \"Closing\")\n",
    "    return closing_src"
   ]
  },
  {
   "cell_type": "code",
   "execution_count": null,
   "id": "e48db1e3e67faf7",
   "metadata": {},
   "outputs": [],
   "source": [
    "if __name__ == \"__main__\":\n",
    "    plt.rcParams['figure.figsize'] = [15, 10]\n",
    "    # img = cv2.imread('../images/001.png')\n",
    "    img = cv2.imread('../images/005.jpg')\n",
    "    assert img is not None, \"file could not be read, check with os.path.exists()\"\n",
    "    tesseract_text(img, \"Original\")\n",
    "    img = cv2.cvtColor(img, cv2.COLOR_BGR2GRAY)\n",
    "    canny_res = canny_edge_detection(img)\n",
    "    denois_res = denoising(canny_res)\n",
    "    gaussian_res = gaussian_blur(denois_res)\n",
    "    thresh_res = thresholding(gaussian_res)\n",
    "\n",
    "    eroded_res = erosion(thresh_res, 1)\n",
    "    dilated_res = dilation(eroded_res, 1)\n",
    "    closing_res = closing(thresh_res, 2, 1)\n",
    "    opening(closing_res, 2, 1)"
   ]
  },
  {
   "cell_type": "code",
   "execution_count": null,
   "id": "5568db95c1d0586c",
   "metadata": {},
   "outputs": [],
   "source": []
  }
 ],
 "metadata": {
  "language_info": {
   "name": "python"
  }
 },
 "nbformat": 4,
 "nbformat_minor": 5
}
