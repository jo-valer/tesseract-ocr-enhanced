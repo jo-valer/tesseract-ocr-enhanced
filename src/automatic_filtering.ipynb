{
 "cells": [
  {
   "cell_type": "markdown",
   "id": "9c5c8954c4a3892",
   "metadata": {
    "collapsed": false
   },
   "source": [
    "# Automatic filtering images"
   ]
  },
  {
   "cell_type": "code",
   "execution_count": null,
   "id": "initial_id",
   "metadata": {},
   "outputs": [],
   "source": [
    "import cv2\n",
    "import numpy as np\n",
    "from matplotlib import pyplot as plt\n",
    "import pytesseract\n",
    "import subprocess\n",
    "\n",
    "# Path to tesseract executable (in case it isn't in your PATH)\n",
    "try:\n",
    "    subprocess.call([\"tesseract\"])\n",
    "except FileNotFoundError:\n",
    "    pytesseract.pytesseract.tesseract_cmd = r'C:\\Program Files\\Tesseract-OCR\\tesseract.exe'"
   ]
  },
  {
   "cell_type": "code",
   "execution_count": null,
   "id": "e7e90833ee9bbf64",
   "metadata": {},
   "outputs": [],
   "source": [
    "def canny_edge_detection(image):\n",
    "    edges = cv2.Canny(image, 80, 100, 2)\n",
    "    plt.subplot(121), plt.imshow(image, cmap='gray')\n",
    "    plt.title('Original Image'), plt.xticks([]), plt.yticks([])\n",
    "    plt.subplot(122), plt.imshow(edges, cmap='gray')\n",
    "    plt.title('Edge Image'), plt.xticks([]), plt.yticks([])\n",
    "    plt.show()\n",
    "    return edges\n"
   ]
  },
  {
   "cell_type": "code",
   "execution_count": null,
   "id": "9abed5d529f3926c",
   "metadata": {},
   "outputs": [],
   "source": [
    "def denoising(image):\n",
    "    dst = cv2.fastNlMeansDenoising(image, None)\n",
    "    plt.subplot(121), plt.imshow(image, 'gray')\n",
    "    plt.subplot(122), plt.imshow(dst, 'gray')\n",
    "    plt.show()\n",
    "\n",
    "    return dst"
   ]
  },
  {
   "cell_type": "code",
   "execution_count": null,
   "id": "1087a5836fea28c9",
   "metadata": {},
   "outputs": [],
   "source": [
    "def gaussian_blur(image):\n",
    "    blur = cv2.GaussianBlur(image, (7, 7), 0)\n",
    "    plt.subplot(121), plt.imshow(image, 'gray'), plt.title('Original')\n",
    "    plt.xticks([]), plt.yticks([])\n",
    "    plt.subplot(122), plt.imshow(blur, 'gray'), plt.title('Blurred')\n",
    "    plt.xticks([]), plt.yticks([])\n",
    "    plt.show()\n",
    "    return blur"
   ]
  },
  {
   "cell_type": "code",
   "execution_count": null,
   "id": "1222462170269aa9",
   "metadata": {},
   "outputs": [],
   "source": [
    "def thresholding(image):\n",
    "    ret, th3 = cv2.threshold(image, 0, 255, cv2.THRESH_BINARY + cv2.THRESH_OTSU)\n",
    "    return th3"
   ]
  },
  {
   "cell_type": "code",
   "execution_count": null,
   "id": "b786361fda939ea8",
   "metadata": {},
   "outputs": [],
   "source": [
    "def erosion(image):\n",
    "    erosion_size = 5\n",
    "    \n",
    "    erosion_shape = cv2.MORPH_RECT\n",
    "\n",
    "    element = cv2.getStructuringElement(erosion_shape, (2 * erosion_size + 1, 2 * erosion_size + 1),\n",
    "                                        (erosion_size, erosion_size))\n",
    "\n",
    "    erosion_dst = cv2.erode(image, element)\n",
    "    plt.subplot(121), plt.imshow(image, 'gray'), plt.title('Original')\n",
    "    plt.xticks([]), plt.yticks([])\n",
    "    plt.subplot(122), plt.imshow(erosion_dst, 'gray'), plt.title('Erosion')\n",
    "    plt.xticks([]), plt.yticks([])\n",
    "    plt.show()\n",
    "    return erosion_dst"
   ]
  },
  {
   "cell_type": "code",
   "execution_count": null,
   "id": "6cef0d296af42eb",
   "metadata": {},
   "outputs": [],
   "source": [
    "def dilation(image):\n",
    "    dilatation_size = 5\n",
    "    dilation_shape = cv2.MORPH_RECT\n",
    "    element = cv2.getStructuringElement(dilation_shape, (2 * dilatation_size + 1, 2 * dilatation_size + 1),\n",
    "                                        (dilatation_size, dilatation_size))\n",
    "    dilatation_dst = cv2.dilate(image, element)\n",
    "    plt.subplot(121), plt.imshow(image, 'gray'), plt.title('Original')\n",
    "    plt.xticks([]), plt.yticks([])\n",
    "    plt.subplot(122), plt.imshow(dilatation_dst, 'gray'), plt.title('Dilatation')\n",
    "    plt.xticks([]), plt.yticks([])\n",
    "    plt.show()\n",
    "    return dilatation_dst"
   ]
  },
  {
   "cell_type": "code",
   "execution_count": null,
   "id": "1d1ef72fcc4f933b",
   "metadata": {},
   "outputs": [],
   "source": [
    "\"\"\"if __name__ == \"__main__\":\n",
    "    # Load the image\n",
    "    img = cv2.imread('../images/003.jpg')\n",
    "    \n",
    "    # Create a mask of the same size as the image, initialized to 0\n",
    "    mask = np.zeros(img.shape[:2], np.uint8)\n",
    "    \n",
    "    # Define a rectangle that includes the foreground object\n",
    "    rect = (50,50,450,290)\n",
    "    \n",
    "    # Create two arrays, bgdModel and fgdModel, as temporary arrays for the GrabCut algorithm\n",
    "    bgdModel = np.zeros((1,65),np.float64)\n",
    "    fgdModel = np.zeros((1,65),np.float64)\n",
    "    \n",
    "    # Apply the GrabCut algorithm with the appropriate parameters\n",
    "    cv2.grabCut(img, mask, rect, bgdModel, fgdModel, 5, cv2.GC_INIT_WITH_RECT)\n",
    "    \n",
    "    # Create a mask where sure and likely foreground regions are marked with 1\n",
    "    mask2 = np.where((mask==2)|(mask==0),0,1).astype('uint8')\n",
    "    \n",
    "    # Multiply the original image with the new mask to get the result\n",
    "    img = img*mask2[:,:,np.newaxis]\n",
    "    \n",
    "    # Display the image\n",
    "    cv2.imshow('image', img)\n",
    "    cv2.waitKey(0)\n",
    "    cv2.destroyAllWindows()\"\"\""
   ]
  },
  {
   "cell_type": "code",
   "execution_count": null,
   "id": "e48db1e3e67faf7",
   "metadata": {},
   "outputs": [],
   "source": [
    "if __name__ == \"__main__\":\n",
    "    # img = cv2.imread('../images/002.png', cv2.IMREAD_GRAYSCALE)\n",
    "    img = cv2.imread('../images/011.jpg',cv2.IMREAD_GRAYSCALE)\n",
    "    assert img is not None, \"file could not be read, check with os.path.exists()\"\n",
    "    #median = cv2.medianBlur(img, 21)\n",
    "    median = gaussian_blur(img)\n",
    "\n",
    "    denois = denoising(median)\n",
    "    thresh = thresholding(denois)\n",
    "\n",
    "    plt.subplot(121), plt.imshow(img, cmap='gray'), plt.title('Original')\n",
    "    plt.xticks([]), plt.yticks([])\n",
    "    plt.subplot(122), plt.imshow(thresh, 'gray'), plt.title('Thresholding')\n",
    "    plt.xticks([]), plt.yticks([])\n",
    "    plt.show()\n",
    "    eroded = erosion(thresh)\n",
    "    dilated = dilation(eroded)\n",
    "    text = pytesseract.image_to_string(img, lang='ita')\n",
    "    print(\"\\033[92m{}\\033[00m\".format('Prima\\n' + text))\n",
    "    #result = cv2.bitwise_and(img, img, mask=dilated)\n",
    "\n",
    "    text = pytesseract.image_to_string(median, lang='ita')\n",
    "    print(\"\\033[92m{}\\033[00m\".format('Blurring\\n' + text))\n",
    "    text = pytesseract.image_to_string(denois, lang='ita')\n",
    "    print(\"\\033[92m{}\\033[00m\".format('Denoised\\n' + text))\n",
    "    text = pytesseract.image_to_string(thresh, lang='ita')\n",
    "    print(\"\\033[92m{}\\033[00m\".format('Threshold\\n' + text))\n",
    "    text = pytesseract.image_to_string(eroded, lang='ita')\n",
    "    print(\"\\033[92m{}\\033[00m\".format('Eroded\\n' + text))\n",
    "    text = pytesseract.image_to_string(dilated, lang='ita')\n",
    "    print(\"\\033[92m{}\\033[00m\".format('Dilated\\n' + text))"
   ]
  },
  {
   "cell_type": "code",
   "execution_count": null,
   "id": "c6e905450ec4c3a5",
   "metadata": {},
   "outputs": [],
   "source": []
  }
 ],
 "metadata": {
  "language_info": {
   "name": "python"
  }
 },
 "nbformat": 4,
 "nbformat_minor": 5
}
