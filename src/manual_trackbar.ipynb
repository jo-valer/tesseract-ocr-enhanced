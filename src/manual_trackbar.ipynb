{
 "cells": [
  {
   "cell_type": "markdown",
   "metadata": {},
   "source": [
    "# Manual Trackbar"
   ]
  },
  {
   "cell_type": "code",
   "execution_count": 11,
   "metadata": {},
   "outputs": [],
   "source": [
    "import cv2\n",
    "import numpy as np\n",
    "import pytesseract\n",
    "import os\n",
    "import sys\n",
    "import argparse\n",
    "from PIL import Image"
   ]
  },
  {
   "cell_type": "code",
   "execution_count": 12,
   "metadata": {},
   "outputs": [],
   "source": [
    "DEBUG1 = False\n",
    "DEBUG2 = True\n",
    "# Path to tesseract executable (in case it isn't in your PATH)\n",
    "pytesseract.pytesseract.tesseract_cmd = r'C:\\Program Files\\Tesseract-OCR\\tesseract.exe'"
   ]
  },
  {
   "cell_type": "code",
   "execution_count": 13,
   "metadata": {},
   "outputs": [
    {
     "name": "stdout",
     "output_type": "stream",
     "text": [
      "‘SNEHA PANDEY\n",
      "=. TSPDL\n",
      "Ga,\n",
      "\n",
      "\n"
     ]
    }
   ],
   "source": [
    "#DEBUG\n",
    "PARENT_DIR = os.path.dirname(os.path.dirname(os.path.realpath(\"FILEPATH\")))\n",
    "image_path = os.path.join(PARENT_DIR, \"images\", \"001.png\")\n",
    "print(pytesseract.image_to_string(Image.open(image_path)))"
   ]
  },
  {
   "cell_type": "code",
   "execution_count": 20,
   "metadata": {},
   "outputs": [],
   "source": [
    "\"\"\"\n",
    "These functions are used to create a trackbar for the image and OCR the text in the image.\n",
    "\"\"\"\n",
    "\n",
    "def nothing(value):\n",
    "    print(value)\n",
    "\n",
    "    new_img = img.copy()\n",
    "    new_img[:,:,2] = value\n",
    "\n",
    "    cv2.imshow('image', new_img)\n",
    "\n",
    "\n",
    "def manual_trackbar_ocr(image):\n",
    "    if DEBUG1:\n",
    "        print(\"DEBUG: manual_trackbar_ocr()\")\n",
    "        text = pytesseract.image_to_string(image, lang='eng')\n",
    "        print(text)\n",
    "\n",
    "    else:\n",
    "        # Create a window\n",
    "        cv2.namedWindow('image')\n",
    "\n",
    "        # Create trackbars for color change\n",
    "        # Hue is from 0-179 for Opencv\n",
    "        cv2.createTrackbar('LH', 'image', 0, 179, nothing)\n",
    "        # cv2.createTrackbar('LS', 'image', 0, 255, nothing)\n",
    "        # cv2.createTrackbar('LV', 'image', 0, 255, nothing)\n",
    "        # cv2.createTrackbar('UH', 'image', 179, 179, nothing)\n",
    "        # cv2.createTrackbar('US', 'image', 255, 255, nothing)\n",
    "        # cv2.createTrackbar('UV', 'image', 255, 255, nothing)\n",
    "\n",
    "        cv2.imshow('image', image)\n",
    "        cv2.waitKey(0)\n",
    "        cv2.destroyAllWindows()\n",
    "\n",
    "        # while(1):\n",
    "        if False:\n",
    "            # Get the current positions of four trackbars\n",
    "            lh = cv2.getTrackbarPos('LH', 'image')\n",
    "            ls = cv2.getTrackbarPos('LS', 'image')\n",
    "            lv = cv2.getTrackbarPos('LV', 'image')\n",
    "            uh = cv2.getTrackbarPos('UH', 'image')\n",
    "            us = cv2.getTrackbarPos('US', 'image')\n",
    "            uv = cv2.getTrackbarPos('UV', 'image')\n",
    "\n",
    "            # Convert BGR to HSV\n",
    "            hsv = cv2.cvtColor(image, cv2.COLOR_BGR2HSV)\n",
    "\n",
    "            # define range of blue color in HSV\n",
    "            lower_blue = np.array([lh, ls, lv])\n",
    "            upper_blue = np.array([uh, us, uv])\n",
    "\n",
    "            # Threshold the HSV image to get only blue colors\n",
    "            mask = cv2.inRange(hsv, lower_blue, upper_blue)\n",
    "\n",
    "            # Bitwise-AND mask and original image\n",
    "            res = cv2.bitwise_and(image, image, mask=mask)\n",
    "\n",
    "            # Display the resulting frame\n",
    "            cv2.imshow('image', res)\n",
    "            k = cv2.waitKey(1) & 0xFF\n",
    "            if k == 27: # wait for ESC key to exit\n",
    "                break\n",
    "\n",
    "            # OCR\n",
    "            text = pytesseract.image_to_string(res, lang='eng')\n",
    "            print(text)\n",
    "\n",
    "        # When everything done, release the capture\n",
    "        cv2.destroyAllWindows()"
   ]
  },
  {
   "cell_type": "code",
   "execution_count": 21,
   "metadata": {},
   "outputs": [
    {
     "name": "stdout",
     "output_type": "stream",
     "text": [
      "DEBUG MODE: ON\n"
     ]
    }
   ],
   "source": [
    "# Parent directory path\n",
    "PARENT_DIR = os.path.dirname(os.path.dirname(os.path.realpath(\"FILEPATH\")))\n",
    "\n",
    "if DEBUG2:\n",
    "    print(\"DEBUG MODE: ON\")\n",
    "    image = cv2.imread(os.path.join(PARENT_DIR, \"images\", \"001.png\"))\n",
    "else:\n",
    "    # Construct the argument parser and parse the arguments\n",
    "    ap = argparse.ArgumentParser()\n",
    "    ap.add_argument(\"-i\", \"--image\", required=True, help=\"Path to the image\")\n",
    "    args = vars(ap.parse_args())\n",
    "\n",
    "    # Load the image\n",
    "    image = cv2.imread(args[\"image\"])\n",
    "\n",
    "# Call the function\n",
    "manual_trackbar_ocr(image)"
   ]
  }
 ],
 "metadata": {
  "kernelspec": {
   "display_name": "tesseract_venv",
   "language": "python",
   "name": "python3"
  },
  "language_info": {
   "codemirror_mode": {
    "name": "ipython",
    "version": 3
   },
   "file_extension": ".py",
   "mimetype": "text/x-python",
   "name": "python",
   "nbconvert_exporter": "python",
   "pygments_lexer": "ipython3",
   "version": "3.12.0"
  }
 },
 "nbformat": 4,
 "nbformat_minor": 2
}
